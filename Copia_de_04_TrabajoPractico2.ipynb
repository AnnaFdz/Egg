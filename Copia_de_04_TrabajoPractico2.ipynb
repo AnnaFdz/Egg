{
  "cells": [
    {
      "cell_type": "markdown",
      "metadata": {
        "id": "view-in-github",
        "colab_type": "text"
      },
      "source": [
        "<a href=\"https://colab.research.google.com/github/AnnaFdz/Egg/blob/master/Copia_de_04_TrabajoPractico2.ipynb\" target=\"_parent\"><img src=\"https://colab.research.google.com/assets/colab-badge.svg\" alt=\"Open In Colab\"/></a>"
      ]
    },
    {
      "cell_type": "markdown",
      "metadata": {
        "id": "kUSjScb40TX-"
      },
      "source": [
        "# Trabajo Práctico 2 - Archivos Pt. 2\n",
        "\n",
        "Para cada clase, método o función creada en este Trabajo Práctico, se pide que se incluya su correspondiente docstring."
      ]
    },
    {
      "cell_type": "code",
      "source": [
        "from google.colab import drive\n",
        "if not (drive.mount('/content/drive')):\n",
        "  drive.mount('/content/drive')"
      ],
      "metadata": {
        "colab": {
          "base_uri": "https://localhost:8080/"
        },
        "id": "rJGYs-XapmuM",
        "outputId": "fc9e2d33-35d8-4702-d50d-88c82192b004"
      },
      "execution_count": null,
      "outputs": [
        {
          "output_type": "stream",
          "name": "stdout",
          "text": [
            "Mounted at /content/drive\n",
            "Drive already mounted at /content/drive; to attempt to forcibly remount, call drive.mount(\"/content/drive\", force_remount=True).\n"
          ]
        }
      ]
    },
    {
      "cell_type": "code",
      "source": [
        "ruta= \"/content/drive/MyDrive/Colab Notebooks/\""
      ],
      "metadata": {
        "id": "yMiyA8CbpplM"
      },
      "execution_count": null,
      "outputs": []
    },
    {
      "cell_type": "markdown",
      "metadata": {
        "id": "oB4c3ZNu0TYA"
      },
      "source": [
        "### **Ejercicio 1**\n",
        "\n",
        "Crear una función que permita al usuario ingresar por teclado cuantas cadenas quiera e ir almacenándolas como líneas en un archivo de texto. La ruta de acceso del archivo se debe pasar por parámetro. El archivo debe crearse si no existe y cada nueva línea debe agregarse al final del archivo.  \n",
        "  \n",
        "Solicitar reiteradamente al usuario por una nueva cadena hasta que decida no continuar."
      ]
    },
    {
      "cell_type": "code",
      "source": [
        "def guardar_lineas(ruta):\n",
        "  op=''\n",
        "  while op.lower() !='s':\n",
        "    cadena =input(\"Ingrese una nueva linea de texto: \")\n",
        "    with open(ruta,\"a\")as archivo:\n",
        "      archivo.write(cadena+\"\\n\")\n",
        "      op= input(\"Desea salir[S/N]: \")\n",
        "\n",
        "guardar_lineas(\"nuevo.txt\")      "
      ],
      "metadata": {
        "id": "Q8bj61hxTGtW"
      },
      "execution_count": null,
      "outputs": []
    },
    {
      "cell_type": "code",
      "source": [
        "def guardar_lineas(ruta):\n",
        "  cadena= input(\"Ingrese una nueva linea de texto [ENTER para salir]: \")\n",
        "  while cadena!= '':\n",
        "    with open(ruta,\"a\") as archivo:\n",
        "      archivo.write(cadena+\"\\n\")\n",
        "    cadena= input(\"Ingrese una nueva linea de texto [ENTER para salir]: \")\n",
        "\n",
        "guardar_lineas(ruta+\"nuevo.txt\")\n"
      ],
      "metadata": {
        "id": "ykpVx-M7YNZY"
      },
      "execution_count": null,
      "outputs": []
    },
    {
      "cell_type": "markdown",
      "metadata": {
        "id": "vduTHytS0TYC"
      },
      "source": [
        "### **Ejercicio 2**\n",
        "\n",
        "Defina una función que permita **crear** un archivo en formato JSON llamado `archivo_cumples.json` y **guardar** nombre y fecha de nacimiento de distintas personas. El nombre del archivo se debe pasar como parámetro. Los datos de las personas se pasan a la función en una lista de diccionarios. Los diccionarios deben tener la estructura que se muestra en el ejemplo siguiente.  \n",
        "  \n",
        "  \n",
        "```python\n",
        "cumples = [{\"nombre\": \"Juan Perez\", \"fecha_nac\": \"15/02/98\"},\n",
        "           {\"nombre\": \"Esteban Quito\",\"fecha_nac\": \"08/07/95\"}]\n",
        "```\n",
        "  \n",
        "Se debe poder usar de la siguiente forma:  \n",
        "  \n",
        "```python\n",
        "crear_archivo_cumples(\"archivo_cumples.json\", cumples)\n",
        "```\n",
        "  \n",
        "El arcihvo JSON debe ser de la forma:  \n",
        "  \n",
        "```json\n",
        "[\n",
        "    {\n",
        "        \"nombre\": \"Juan Perez\",\n",
        "        \"fecha_nac\": \"15/02/98\"\n",
        "    },\n",
        "    {\n",
        "        \"nombre\": \"Esteban Quito\",\n",
        "        \"fecha_nac\": \"08/07/95\"\n",
        "    }\n",
        "]\n",
        "```\n",
        "\n",
        "Probar la función con el ejemplo dado."
      ]
    },
    {
      "cell_type": "code",
      "source": [
        "\n",
        "def crear_archivo_cumples(ruta,cumples):\n",
        "  import json\n",
        "  with open(ruta, \"w\") as archivo:\n",
        "      #for cumple in cumples:\n",
        "        json.dump(cumples, archivo)\n",
        "\n",
        "cumples = [{\"nombre\": \"Juan Perez\", \"fecha_nac\": \"15/02/98\"},\n",
        "           \n",
        "           {\"nombre\": \"Esteban Quito\",\"fecha_nac\": \"08/07/95\"}]    \n",
        "crear_archivo_cumples(ruta+\"cumpleanios.json\", cumples)            "
      ],
      "metadata": {
        "id": "VM2i41Fjb3K1"
      },
      "execution_count": null,
      "outputs": []
    },
    {
      "cell_type": "markdown",
      "metadata": {
        "id": "f2m5vQu90TYD"
      },
      "source": [
        "### **Ejercicio 3**\n",
        "\n",
        "Partiendo del archivo del ejercicio anterior, defina una función que permita agregar el nombre de una persona (y su fecha de nacimiento) al archivo. El nombre del archivo se debe pasar como parámetro, así como los datos de la persona, los cuales deben estar en un diccionario de la misma estructura que el ejercicio anterior.  \n",
        "  \n",
        "Se debe poder usar de la siguiente forma:  \n",
        "  \n",
        "```python\n",
        "cumple = {\"nombre\": \"Cosme Fulanito\", \"fecha_nac\": \"06/12/2001\"}\n",
        "agregar_cumple(\"archivo_cumples.json\", cumple)\n",
        "```\n",
        "\n",
        "Ayuda: primero leer el archivo, deserializarlo (se va a crear una lista), luego agregar el nuevo \"cumple\" y volver a serializarlo (para esto hay que borrar el archivo anterior o abrirlo con 'w' al guardar nuevamente)."
      ]
    },
    {
      "cell_type": "code",
      "source": [
        "def agregar_cumple(ruta, cumple):\n",
        "    import json\n",
        "\n",
        "    with open (ruta,\"a\") as archivo:\n",
        "      json.dump(cumple, archivo)\n",
        "\n",
        "cumple = {\"nombre\": \"Cosme Fulanito\", \"fecha_nac\": \"06/12/2001\"}\n",
        "agregar_cumple(ruta+\"cumpleanios.json\", cumple)    "
      ],
      "metadata": {
        "id": "BKsCpSYZfucx"
      },
      "execution_count": null,
      "outputs": []
    },
    {
      "cell_type": "code",
      "source": [
        "\"\"\"no sirve el del profe\n",
        "  def agregar_cumple(ruta, cumple):\n",
        "    import json\n",
        "    with open(ruta) as archivo:\n",
        "        lista= json.load(archivo)\n",
        "    lista.append(cumple)\n",
        "    with open(ruta,\"a\") as archivo:    \n",
        "        json.dump(cumple, archivo)\n",
        "\n",
        "cumple = {\"nombre\": \"Cosme Fulanito\", \"fecha_nac\": \"06/12/2001\"}\n",
        "agregar_cumple(ruta+\"cumpleanios.json\", cumple)          \"\"\"\""
      ],
      "metadata": {
        "id": "jha76UzljWNj"
      },
      "execution_count": null,
      "outputs": []
    },
    {
      "cell_type": "markdown",
      "metadata": {
        "id": "SN4Y8LTF0TYE"
      },
      "source": [
        "### **Ejercicio 4**\n",
        "\n",
        "Definir una clase `Cumples` que maneje una lista de los nombres y fechas de nacimiento de distintas personas. El estado de la lista de cumpleaños se debe almacenar en un archivo en formato JSON.  \n",
        "  \n",
        "La clase debe tener como atributo el nombre (ruta) del archivo, el cual se pasará como parámetro al crear un objeto.  \n",
        "  \n",
        "La clase de permitir:  \n",
        "  * Mostrar todos los nombres y sus respectivas fechas de nacimiento.\n",
        "  * Agregar los datos de una nueva persona.  \n",
        "  \n",
        "\n",
        "#### Opcional  \n",
        "  \n",
        "Al agregar los datos de una nueva persona, revisar si el mismo nombre ya se guardó anteriormente. Si es así almacenar la fecha nueva en lugar de la vieja, manteniendo el nombre de la persona."
      ]
    },
    {
      "cell_type": "markdown",
      "metadata": {
        "id": "QdKw9_TI0TYG"
      },
      "source": [
        "### **Ejercicio 5**\n",
        "\n",
        "Definir una función que permita leer un archivo CSV con las columnas: nombre, apellido y edad, y mostrar por pantalla las filas que cumplan con tener una edad mayor o igual a 18.  \n",
        "  \n",
        "El nombre del archivo se debe pasar como parámetro.  \n",
        "  \n",
        "Si el archivo contiene los siguientes datos:  \n",
        "  \n",
        "```\n",
        "# datos.csv\n",
        "Juan,Perez,29\n",
        "Esteban,Quito,17\n",
        "Cosme,Fulanito,18\n",
        "```\n",
        "  \n",
        "Se debe mostrar por pantalla:  \n",
        "  \n",
        "```\n",
        "Juan Perez, 29\n",
        "Cosme Fulanito, 18\n",
        "```"
      ]
    },
    {
      "cell_type": "markdown",
      "metadata": {
        "id": "Whs3_98L0TYI"
      },
      "source": [
        "### **Ejercicio 6**\n",
        "\n",
        "Definir una función que lea un archivo CSV idéntico al del ejercicio anterior y que lo guarde en un archivo de formato JSON. Colocar cada fila o registro en una lista antes de serializar.  \n",
        "  \n",
        "Los nombres de ambos archivos se deben pasar como parámetros.  \n",
        "  \n",
        "Si el archivo CSV es el siguiente:  \n",
        "  \n",
        "```\n",
        "# datos.csv\n",
        "Juan,Perez,29\n",
        "Esteban,Quito,17\n",
        "Cosme,Fulanito,18\n",
        "```\n",
        "  \n",
        "El archivo JSON resultante debe ser:  \n",
        "  \n",
        "```\n",
        "# datos.json\n",
        "[{\"nombre\": \"Juan\", \"apellido\": \"Perez\", \"edad\": 29},\n",
        " {\"nombre\": \"Esteban\", \"apellido\": \"Quito\", \"edad\": 17},\n",
        " {\"nombre\": \"Cosme\", \"apellido\": \"Fulanito\", \"edad\": 18}]\n",
        "```\n",
        "  \n",
        "Ayuda, usar DictReader, con el encabezado `(\"nombre\", \"apellido\", \"edad\")` para obtener diccionarios a partir del archivo CSV para poder serializarlos mejor."
      ]
    },
    {
      "cell_type": "markdown",
      "metadata": {
        "id": "U0KYg-IH0TYJ"
      },
      "source": [
        "### **Ejercicio 7**\n",
        "\n",
        "Recordando un ejercicio del módulo de funciones (transcripto a continuación).  \n",
        "  \n",
        "> Escribir una función que permita cargar los datos de alumnos de la universidad en diccionarios. Los datos que se van a pedir son: nombre, edad, carrera y número de legajo.  \n",
        "> Permitir al usuario ingresar todos los alumnos que quiera. Almacenar los datos de un alumno en un diccionario y a todos los diccionarios en una lista.  \n",
        "> Por ejemplo, si se hubieran ingresado los datos de cuatro alumnos, la lista de diccionarios quedaría de la siguiente forma:\n",
        "  \n",
        "\n",
        "```python\n",
        "datos_alumnos = [{\"nombre\": \"Yamila Rodríguez\", \"edad\": 21, \"carrera\": \"Técnico en Desarrollo de Software\", \"legajo\": 24345},\n",
        "                 {\"nombre\": \"Martina del Treco\", \"edad\": 19, \"carrera\": \"Técnico en Desarrollo de Software\", \"legajo\": 43563},\n",
        "                 {\"nombre\": \"Joaquín Correa\", \"edad\": 20, \"carrera\": \"Técnico en Desarrollo de Software\", \"legajo\": 91923},\n",
        "                 {\"nombre\": \"Luis Miguel Rodriguez\", \"edad\": 19, \"carrera\": \"Técnico en Desarrollo de Software\", \"legajo\": 43545}]\n",
        "```\n",
        "\n",
        "<br>\n",
        "\n",
        "  \n",
        "Crear una clase que mejore esta funcionalidad guardando los datos de los alumnos en un archivo CSV en lugar de una lista.  \n",
        "  \n",
        "El archivo deberá estar localizado en el directorio actual donde se corra el programa y se creará si no existe. Si el archivo ya existe se debe continuar escribiendo al final del mismo. El nombre del archivo debe ser pasado como parámetro al momento de instanciar el objeto de la nueva clase.  \n",
        "  \n",
        "Si entre los datos de un alumno a agregar hay alguno que contiene un legajo que ya existía en el archivo, se debe actualizar la información (no crear un registro nuevo).  \n",
        "  \n",
        "Para leer y escribir los datos al archivo CSV se puede usar cualquier objeto del módulo `csv` (aunque es recomendable usar `DictReader` y `DictWriter`).  \n",
        "  \n",
        "Tomando el ejemplo anterior, el archivo debe quedar como se ve a continuación.  \n",
        "  \n",
        "```\n",
        "Yamila Rodríguez,21,Técnico en Desarrollo de Software,24345\n",
        "Martina del Treco,19,Técnico en Desarrollo de Software,43563\n",
        "Joaquín Correa,20,Técnico en Desarrollo de Software,91923\n",
        "Luis Miguel Rodriguez,19,Técnico en Desarrollo de Software,43545\n",
        "```"
      ]
    },
    {
      "cell_type": "markdown",
      "metadata": {
        "id": "b8TqrCPL0TYJ"
      },
      "source": [
        "### **Ejercicio 8** (opcional, uso de excepciones)\n",
        "\n",
        "Crear una clase `Bitacora` que implemente un método `escribir`, con el cual se pueda escribir un mensaje o registro en una línea, a un archivo de texto cada vez que se lo llame.  \n",
        "  \n",
        "El archivo deberá estar localizado en el directorio actual donde se corra el programa y se creará si no existe. Si el archivo ya existe se debe continuar escribiendo al final del mismo. El nombre del archivo debe ser pasado como parámetro al momento de instanciar el objeto `Bitacora`.  \n",
        "  \n",
        "Al escribir un registro en el archivo se debe incluir la fecha y hora actual (siguiendo el formato del ejemplo), y el mensaje. El mensaje se pasará como parámetro al método `escribir`.  \n",
        "  \n",
        "Crear una clase de excepción para la clase Bitacora, con la que se pueda indicar un error al usar la Bitacora, por ejemplo, si el mensaje pasado como parámetro no es un `str`.  \n",
        "  \n",
        "El archivo debe quedar como sigue:  \n",
        "  \n",
        "\n",
        "```\n",
        "05-12-2022 - 10:18: Esta es una linea de la bitacora.\n",
        "05-12-2022 - 10:19: Esta es otra linea de la bitacora.\n",
        "```\n",
        "\n",
        "Esqueleto de la clase Bitacora:  \n",
        "  \n",
        "\n",
        "```python\n",
        "class Bitacora:\n",
        "    \"\"\"Clase que implementa un cuaderno bitacora electronico\"\"\"\n",
        "    \n",
        "    def escribir(self, mensaje):\n",
        "        \"\"\"Escribe la fecha, hora y mensaje en el archivo de texto.\"\"\"\n",
        "        pass\n",
        "```\n",
        "  \n",
        "Ayuda: para obtener un objeto con la fecha y hora actual se puede usar el método `now()` de la clase `datetime` del módulo `datetime`. Y para obtener un `str` de fecha y hora a partir de un objeto `datetime` se puede usar el método `strftime()`, el cual necesita una cadena de formateo. [Leer documentación sobre `strftime` de `datetime`](https://docs.python.org/es/3/library/datetime.html#datetime.datetime.strftime) y [las cadenas de formateo](https://docs.python.org/es/3/library/datetime.html#strftime-and-strptime-behavior).  \n",
        "  \n",
        "\n",
        "<br>\n",
        "\n",
        "Opcional: Darle distintos niveles de importancia a los mensajes escritos en el archivo usando distintos métodos: `Bitacora.importante()`, `Bitacora.normal()`, `Bitacora.rutina()`.  \n",
        "  \n",
        "Los registros de rutina solo deben incluir la cadena `\"RUTINA\"` al inicio del mensaje.  \n",
        "Los registros normales deben incluir los segundos en la hora, además de la cadena `\"NORMAL\"` al inicio del mensaje.  \n",
        "Los registros importantes deben incluir los segundos en la hora, la cadena `\"IMPORTANTE\"` y entre paréntesis, el nombre de quien está agregando el mensaje al inicio del mismo. Debe tomar el nombre como parámetro.  \n",
        "  \n",
        "Al escribir el registro se debe indicar la importancia de alguna forma.  \n",
        "Por ejemplo:  \n",
        "  \n",
        "\n",
        "```\n",
        "05-12-2022 - 10:18:54 - IMPORTANTE (Juan Perez): Este es un mensaje importante.\n",
        "05-12-2022 - 10:19:32 - NORMAL: Este es un mensaje normal.\n",
        "05-12-2022 - 10:20 - RUTINA: Este es un mensaje de baja importancia.\n",
        "```\n",
        "\n",
        "  \n",
        "Opcional 2: Crear un menú que permita que una persona ingrese mensajes de distinto nivel de importancia."
      ]
    },
    {
      "cell_type": "markdown",
      "metadata": {
        "id": "BzNJhbJJ0TYK"
      },
      "source": [
        "\n",
        "### **Ejercicio 9** (opcional)\n",
        "\n",
        "El dataset `spotify_artist_data.csv` contiene datos sobre **reproducciones** de canciones de distintos artistas en Spotify ([Kaggle.com](https://www.kaggle.com/datasets/adnananam/spotify-artist-stats)). Las columnas del dataset son: numero, artista, reproducciones como lead (canciones propias), reproducciones como feat (como invitado), canciones, miles de millones, 100 millones y fecha de actualización.  \n",
        "  \n",
        "Se pide crear una función que cree un nuevo archivo conteniendo solo los datos de los artistas que tienen más reproducciones como feat. que como lead.  \n",
        "  \n",
        "Ayuda: las cantidades de reproducciones están almacenadas con comas (',') como separadores de miles. Para poder comparar hay que sacar esas comas y castear a `int`.  \n",
        "  \n",
        "Opcional: Crear un nuevo archivo con los datos de los artistas, pero ordenados por la mejor proporción de millones de reproducciones sobre cantidad de canciones. O sea, un artista que tenga 10 millones de reproducciones en 20 canciones (proporcion 10/20 = 0.5) va a estar ordenado mas arriba que un artista que tenga 10 millones de reproducciones en 40 canciones (proporción 10/40 = 0.25). Agergar el valor de la proporción como una nueva columna, después de \"Tracks\"."
      ]
    },
    {
      "cell_type": "code",
      "source": [
        "archivo= ruta+\"spotify_artist_data.csv\"\n",
        "nuevo= ruta+\"nuevo.csv\"\n",
        "\n",
        "def crear_nuevo(archivo,nuevo):\n",
        "  \n",
        "  import csv \n",
        "  numero_fila=1\n",
        "  with open(archivo,newline=\"\") as viejo:\n",
        "    lector= csv.reader(viejo,delimiter=\",\")\n",
        "    #for fila in lector:\n",
        "     # print(fila)\n",
        "    with open(nuevo,\"w\",newline=\"\") as nuevo_csv:\n",
        "      escritor = csv.writer(nuevo_csv, delimiter=\",\") \n",
        "      escritor.writerow(tuple(lector[0]))\n",
        "      for fila in lector [1:]:\n",
        "        if int(fila[3].replace(\",\",\"\"))> int(fila[2].replace(\",\",\"\")) :\n",
        "          fila[0]=numero_fila\n",
        "          numero_fila+=1\n",
        "          escritor.writerow(tuple(fila))\n",
        "\n",
        "crear_nuevo(archivo,nuevo)      \n"
      ],
      "metadata": {
        "id": "MJqF8Rmkkgii"
      },
      "execution_count": null,
      "outputs": []
    },
    {
      "cell_type": "code",
      "source": [
        "archivo= ruta+\"spotify_artist_data.csv\"\n",
        "nuevo= ruta+\"nuevo.csv\"\n",
        "\n",
        "def crear_nuevo(archivo,nuevo):\n",
        "  import csv \n",
        "  numero_fila=1\n",
        "  with open(archivo,newline=\"\") as viejo:\n",
        "    lector= csv.reader(viejo,delimiter=\",\")\n",
        "    lector= list(lector)\n",
        "    with open(nuevo,\"w\",newline=\"\") as nuevo_csv:\n",
        "      escritor = csv.writer(nuevo_csv,delimiter=\",\")\n",
        "      escritor.writerow(tuple(lector[0]))\n",
        "      lector = lector[1:]\n",
        "      for fila in lector[1:]:\n",
        "        if int(fila[3].replace(\",\",\"\")) > int(fila[2].replace(\",\",\"\")):\n",
        "          fila[0]=str(numero_fila)\n",
        "          print(fila)\n",
        "          numero_fila+=1\n",
        "          escritor.writerow(tuple(fila))\n",
        "\n",
        "\n",
        "crear_nuevo(archivo,nuevo)"
      ],
      "metadata": {
        "colab": {
          "base_uri": "https://localhost:8080/"
        },
        "id": "YeOu_9echyH6",
        "outputId": "ce312920-f054-4f3d-a0f9-1428f2ef563e"
      },
      "execution_count": null,
      "outputs": [
        {
          "output_type": "stream",
          "name": "stdout",
          "text": [
            "['1', 'Lil Wayne', '8,970,128,688', '14,160,244,567', '476', '0', '19', '17.09.22']\n",
            "['2', 'Young Thug', '8,956,248,071', '9,576,540,270', '366', '0', '20', '17.09.22']\n",
            "['3', 'Ty Dolla $ign', '6,503,653,017', '10,647,843,904', '191', '0', '14', '03.09.22']\n",
            "['4', 'Big Sean', '5,791,066,758', '6,189,567,932', '153', '0', '13', '04.09.22']\n",
            "['5', 'Swae Lee', '4,836,929,180', '5,692,666,319', '59', '1', '10', '31.07.22']\n",
            "['6', 'Arcangel', '4,475,257,907', '5,081,836,495', '244', '0', '11', '11.08.22']\n",
            "['7', 'Snoop Dogg', '4,300,203,668', '6,192,858,304', '726', '1', '7', '25.08.22']\n",
            "['8', 'Wisin', '4,226,257,427', '5,360,562,962', '131', '0', '10', '18.08.22']\n",
            "['9', 'Aventura', '3,943,857,084', '4,905,865,217', '123', '0', '12', '01.09.22']\n",
            "['10', 'George Ezra', '3,745,977,355', '3,853,999,824', '76', '0', '7', '07.09.22']\n",
            "['11', 'The Offspring', '3,713,219,015', '4,310,489,285', '159', '0', '7', '13.08.22']\n",
            "['12', 'Wesley Safadão', '3,698,314,476', '5,692,666,319', '283', '0', '6', '31.07.22']\n",
            "['13', '2 Chainz', '3,429,709,034', '5,081,836,495', '409', '0', '7', '31.07.22']\n",
            "['14', 'Lukas Graham', '3,410,790,500', '3,924,285,642', '66', '1', '4', '31.07.22']\n",
            "['15', 'Boyce Avenue', '3,287,510,482', '6,192,858,304', '450', '0', '3', '20.09.22']\n",
            "['16', 'Tainy', '3,255,357,184', '5,360,562,962', '44', '1', '5', '06.09.22']\n",
            "['17', 'ILLENIUM', '3,076,454,009', '4,905,865,217', '218', '0', '4', '31.07.22']\n",
            "['18', 'Journey', '3,008,391,718', '3,853,999,824', '278', '1', '5', '17.09.22']\n",
            "['19', 'Soda Stereo', '3,000,230,369', '4,310,489,285', '198', '0', '5', '18.09.22']\n",
            "['20', 'Mike Posner', '2,987,016,135', '5,692,666,319', '183', '1', '4', '26.08.22']\n",
            "['21', 'Papa Roach', '2,861,296,786', '3,118,921,754', '236', '0', '4', '31.07.22']\n",
            "['22', 'SAINt JHN', '2,841,651,735', '5,081,836,495', '55', '1', '3', '31.07.22']\n",
            "['23', 'Noah Cyrus', '2,813,340,209', '3,924,285,642', '74', '0', '6', '19.09.22']\n",
            "['24', 'Paul McCartney', '2,767,237,931', '3,009,354,038', '918', '0', '5', '14.09.22']\n",
            "['25', 'George Michael', '2,703,100,036', '6,192,858,304', '185', '0', '4', '19.09.22']\n",
            "['26', 'The Beach Boys', '2,687,373,992', '5,360,562,962', '1,528', '0', '7', '08.08.22']\n",
            "['27', 'T-Pain', '2,522,886,931', '3,095,732,093', '215', '0', '8', '31.07.22']\n",
            "['28', 'Rick Ross', '2,491,175,711', '4,970,243,020', '340', '0', '4', '31.07.22']\n",
            "['29', 'Kid Ink', '2,489,130,300', '2,816,280,604', '198', '0', '8', '31.07.22']\n",
            "['30', 'iann dior', '2,102,922,842', '2,291,368,890', '55', '0', '5', '31.07.22']\n",
            "['31', 'Pharrell Williams', '2,077,074,226', '6,537,561,403', '110', '1', '3', '31.07.22']\n",
            "['32', 'MØ', '1,867,886,470', '3,388,886,631', '124', '0', '4', '31.07.22']\n",
            "['33', 'Darell', '1,768,464,822', '4,780,307,242', '133', '0', '4', '31.07.22']\n",
            "['34', 'DJ Luian', '1,747,734,090', '2,738,823,311', '52', '0', '4', '31.07.22']\n",
            "['35', 'Mambo Kingz', '1,745,059,565', '2,499,618,695', '37', '0', '5', '31.07.22']\n",
            "['36', 'Daya', '1,735,378,090', '2,131,830,037', '45', '0', '4', '31.07.22']\n",
            "['37', 'Juicy J', '1,666,667,173', '3,759,718,067', '450', '0', '2', '31.07.22']\n",
            "['38', 'will.i.am', '1,641,904,383', '2,159,351,268', '103', '0', '5', '20.08.22']\n",
            "['39', 'Mary J. Blige', '1,603,823,302', '2,072,649,813', '395', '0', '2', '31.07.22']\n",
            "['40', 'Timbaland', '1,538,740,572', '2,172,817,649', '156', '0', '5', '09.08.22']\n",
            "['41', 'Pusha T', '1,530,816,646', '1,669,008,782', '123', '0', '2', '05.08.22']\n"
          ]
        }
      ]
    }
  ],
  "metadata": {
    "kernelspec": {
      "display_name": "Python 3",
      "language": "python",
      "name": "python3"
    },
    "language_info": {
      "codemirror_mode": {
        "name": "ipython",
        "version": 3
      },
      "file_extension": ".py",
      "mimetype": "text/x-python",
      "name": "python",
      "nbconvert_exporter": "python",
      "pygments_lexer": "ipython3",
      "version": "3.9.1"
    },
    "orig_nbformat": 4,
    "vscode": {
      "interpreter": {
        "hash": "2a4fb80cb3c171773cd027240bb470c91e78114f9d815845cf91c954721f781f"
      }
    },
    "colab": {
      "provenance": [],
      "include_colab_link": true
    }
  },
  "nbformat": 4,
  "nbformat_minor": 0
}